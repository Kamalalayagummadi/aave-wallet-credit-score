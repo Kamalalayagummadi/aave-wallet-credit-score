{
 "cells": [
  {
   "cell_type": "markdown",
   "id": "f6ec39e9-4923-4ab5-9c5d-3f38aacb3f68",
   "metadata": {},
   "source": [
    "#  PROJECT: Aave V2 Wallet Credit Score"
   ]
  },
  {
   "cell_type": "markdown",
   "id": "013c7076-f172-44c1-8d07-6cdd6535914e",
   "metadata": {},
   "source": [
    "Creating a credit scoring model for DeFi wallets based on Aave V2 transaction behavior. Output will be stored in wallet_scores.json and analyzed in graphs."
   ]
  },
  {
   "cell_type": "markdown",
   "id": "cd754e8a-13a4-4709-8a0d-f920ca986d35",
   "metadata": {},
   "source": [
    "# STEP 1: IMPORT LIBRARIES"
   ]
  },
  {
   "cell_type": "code",
   "execution_count": 4,
   "id": "56a091ad-24b5-4513-b1f3-e32e3f624481",
   "metadata": {},
   "outputs": [],
   "source": [
    "import json\n",
    "from collections import defaultdict\n",
    "from datetime import datetime, timezone\n",
    "import matplotlib.pyplot as plt"
   ]
  },
  {
   "cell_type": "markdown",
   "id": "abe66912-688e-4501-907d-d745a28788ef",
   "metadata": {},
   "source": [
    "# STEP 2: LOAD TRANSACTION DATA"
   ]
  },
  {
   "cell_type": "code",
   "execution_count": 6,
   "id": "b5c1e8b9-bb0b-4f6b-a0d6-4a2c45c9bdf8",
   "metadata": {},
   "outputs": [
    {
     "name": "stdout",
     "output_type": "stream",
     "text": [
      "✅ Loaded transactions: 100000\n",
      "📄 Sample record: {'_id': {'$oid': '681d38fed63812d4655f571a'}, 'userWallet': '0x00000000001accfa9cef68cf5371a23025b6d4b6', 'network': 'polygon', 'protocol': 'aave_v2', 'txHash': '0x695c69acf608fbf5d38e48ca5535e118cc213a89e3d6d2e66e6b0e3b2e8d4190', 'logId': '0x695c69acf608fbf5d38e48ca5535e118cc213a89e3d6d2e66e6b0e3b2e8d4190_Deposit', 'timestamp': 1629178166, 'blockNumber': 1629178166, 'action': 'deposit', 'actionData': {'type': 'Deposit', 'amount': '2000000000', 'assetSymbol': 'USDC', 'assetPriceUSD': '0.9938318274296357543568636362026045', 'poolId': '0x2791bca1f2de4661ed88a30c99a7a9449aa84174', 'userId': '0x00000000001accfa9cef68cf5371a23025b6d4b6'}, '__v': 0, 'createdAt': {'$date': '2025-05-08T23:06:39.465Z'}, 'updatedAt': {'$date': '2025-05-08T23:06:39.465Z'}}\n"
     ]
    }
   ],
   "source": [
    "# Path to the raw JSON file (downloaded from the challenge link)\n",
    "INPUT_FILE = \"user-wallet-transactions.json\"\n",
    "\n",
    "# Load the JSON data\n",
    "with open(INPUT_FILE, \"r\") as f:\n",
    "    data = json.load(f)\n",
    "\n",
    "print(\"✅ Loaded transactions:\", len(data))\n",
    "print(\"📄 Sample record:\", data[0])"
   ]
  },
  {
   "cell_type": "markdown",
   "id": "360b094f-ae35-4d49-9079-e1df213bfde3",
   "metadata": {},
   "source": [
    "# STEP 3: FEATURE ENGINEERING"
   ]
  },
  {
   "cell_type": "code",
   "execution_count": 8,
   "id": "b0325c6a-18cc-42f1-a88a-9951040c8fd7",
   "metadata": {},
   "outputs": [
    {
     "name": "stdout",
     "output_type": "stream",
     "text": [
      "✅ Feature extraction complete. Total wallets: 3497\n"
     ]
    }
   ],
   "source": [
    "wallet_features = defaultdict(lambda: {\n",
    "    \"deposit_count\": 0,\n",
    "    \"borrow_count\": 0,\n",
    "    \"repay_count\": 0,\n",
    "    \"redeem_count\": 0,\n",
    "    \"liquidation_count\": 0,\n",
    "    \"total_deposit\": 0.0,\n",
    "    \"total_borrow\": 0.0,\n",
    "    \"total_repay\": 0.0,\n",
    "    \"active_days\": set()\n",
    "})\n",
    "\n",
    "for tx in data:\n",
    "    wallet = tx.get(\"userWallet\")\n",
    "    action = tx.get(\"action\", \"\").lower()\n",
    "    amount = float(tx.get(\"actionData\", {}).get(\"amount\", 0)) / 1e18\n",
    "    timestamp = tx.get(\"timestamp\", 0)\n",
    "    date = datetime.fromtimestamp(timestamp, tz=timezone.utc).date()\n",
    "\n",
    "    wallet_features[wallet][\"active_days\"].add(date)\n",
    "\n",
    "    if action == \"deposit\":\n",
    "        wallet_features[wallet][\"deposit_count\"] += 1\n",
    "        wallet_features[wallet][\"total_deposit\"] += amount\n",
    "    elif action == \"borrow\":\n",
    "        wallet_features[wallet][\"borrow_count\"] += 1\n",
    "        wallet_features[wallet][\"total_borrow\"] += amount\n",
    "    elif action == \"repay\":\n",
    "        wallet_features[wallet][\"repay_count\"] += 1\n",
    "        wallet_features[wallet][\"total_repay\"] += amount\n",
    "    elif action == \"redeemunderlying\":\n",
    "        wallet_features[wallet][\"redeem_count\"] += 1\n",
    "    elif action == \"liquidationcall\":\n",
    "        wallet_features[wallet][\"liquidation_count\"] += 1\n",
    "\n",
    "print(\"✅ Feature extraction complete. Total wallets:\", len(wallet_features))\n"
   ]
  },
  {
   "cell_type": "markdown",
   "id": "f6d9d31f-857f-4264-8834-cc031c97072e",
   "metadata": {},
   "source": [
    "#  STEP 4: SCORING FUNCTION"
   ]
  },
  {
   "cell_type": "markdown",
   "id": "584f729b-2971-4c16-9e27-ddbe31400cce",
   "metadata": {},
   "source": [
    "Score each wallet between 0 and 1000."
   ]
  },
  {
   "cell_type": "code",
   "execution_count": 11,
   "id": "aaa07e95-de55-4548-b421-ab9e4155b66b",
   "metadata": {},
   "outputs": [],
   "source": [
    "def score_wallet(feat):\n",
    "    score = 600  # Base score\n",
    "\n",
    "    score += feat[\"deposit_count\"] * 5\n",
    "    score += feat[\"repay_count\"] * 10\n",
    "    score -= feat[\"borrow_count\"] * 3\n",
    "    score -= feat[\"liquidation_count\"] * 20\n",
    "    score += len(feat[\"active_days\"]) * 2\n",
    "\n",
    "    if feat[\"total_borrow\"] > feat[\"total_repay\"]:\n",
    "        score -= int((feat[\"total_borrow\"] - feat[\"total_repay\"]) * 2)\n",
    "\n",
    "    return max(0, min(1000, score))\n"
   ]
  },
  {
   "cell_type": "markdown",
   "id": "a9b3ad5a-cf35-482e-96c9-7c57e620d01f",
   "metadata": {},
   "source": [
    "#  STEP 5: CALCULATE SCORES"
   ]
  },
  {
   "cell_type": "code",
   "execution_count": 13,
   "id": "fbb4658f-fb51-4545-8cf6-e8d5b7469eb7",
   "metadata": {},
   "outputs": [
    {
     "name": "stdout",
     "output_type": "stream",
     "text": [
      "✅ Wallets scored: 3497\n",
      "📊 Sample score: [{'wallet': '0x00000000001accfa9cef68cf5371a23025b6d4b6', 'score': 607}, {'wallet': '0x000000000051d07a4fb3bd10121a343d85818da6', 'score': 607}, {'wallet': '0x000000000096026fb41fc39f9875d164bd82e2dc', 'score': 614}]\n"
     ]
    }
   ],
   "source": [
    "wallet_scores = []\n",
    "\n",
    "for wallet, feat in wallet_features.items():\n",
    "    feat[\"active_days\"] = list(feat[\"active_days\"])  # convert set to list\n",
    "    score = score_wallet(feat)\n",
    "    wallet_scores.append({\"wallet\": wallet, \"score\": score})\n",
    "\n",
    "print(\"✅ Wallets scored:\", len(wallet_scores))\n",
    "print(\"📊 Sample score:\", wallet_scores[:3])\n"
   ]
  },
  {
   "cell_type": "markdown",
   "id": "b6d15d4b-d2ee-4b8a-9251-c09c6a447aec",
   "metadata": {},
   "source": [
    "# STEP 6: SAVE SCORES TO JSON FILE"
   ]
  },
  {
   "cell_type": "code",
   "execution_count": 15,
   "id": "41fc5265-7eb7-4900-915a-3593c98e10af",
   "metadata": {},
   "outputs": [
    {
     "name": "stdout",
     "output_type": "stream",
     "text": [
      "✅ Scores saved to wallet_scores.json\n"
     ]
    }
   ],
   "source": [
    "with open(\"wallet_scores.json\", \"w\") as f:\n",
    "    json.dump(wallet_scores, f, indent=2)\n",
    "\n",
    "print(\"✅ Scores saved to wallet_scores.json\")"
   ]
  },
  {
   "cell_type": "markdown",
   "id": "c4003f10-b052-445d-a12c-b7a2e0567cea",
   "metadata": {},
   "source": [
    "# STEP 7: VISUALIZE SCORE DISTRIBUTION"
   ]
  },
  {
   "cell_type": "code",
   "execution_count": 17,
   "id": "6ec51b0b-c770-4302-a2af-066513cfa5d7",
   "metadata": {},
   "outputs": [
    {
     "data": {
      "image/png": "[encoded data removed]",
      "text/plain": [
       "<Figure size 1000x500 with 1 Axes>"
      ]
     },
     "metadata": {},
     "output_type": "display_data"
    }
   ],
   "source": [
    "score_values = [entry['score'] for entry in wallet_scores]\n",
    "\n",
    "# Group into buckets of 100 (0–99, 100–199, ..., 900–1000)\n",
    "ranges = [\"0-99\", \"100-199\", \"200-299\", \"300-399\", \"400-499\",\n",
    "          \"500-599\", \"600-699\", \"700-799\", \"800-899\", \"900-1000\"]\n",
    "bins = [0] * 10\n",
    "\n",
    "for s in score_values:\n",
    "    index = min(s // 100, 9)\n",
    "    bins[index] += 1\n",
    "\n",
    "plt.figure(figsize=(10, 5))\n",
    "plt.bar(ranges, bins, color='skyblue', edgecolor='black')\n",
    "plt.title(\"Wallet Credit Score Distribution\")\n",
    "plt.xlabel(\"Score Range\")\n",
    "plt.ylabel(\"Number of Wallets\")\n",
    "plt.grid(True)\n",
    "plt.tight_layout()\n",
    "plt.savefig(\"score_distribution.png\")\n",
    "plt.show()"
   ]
  },
  {
   "cell_type": "code",
   "execution_count": 18,
   "id": "19659735-5776-44e7-baa5-14b88c4db011",
   "metadata": {},
   "outputs": [
    {
     "data": {
      "text/plain": [
       "<Figure size 640x480 with 0 Axes>"
      ]
     },
     "metadata": {},
     "output_type": "display_data"
    }
   ],
   "source": [
    "plt.savefig(\"score_distribution.png\")  # This line saves the graph"
   ]
  }
 ],
 "metadata": {
  "kernelspec": {
   "display_name": "Python [conda env:base] *",
   "language": "python",
   "name": "conda-base-py"
  },
  "language_info": {
   "codemirror_mode": {
    "name": "ipython",
    "version": 3
   },
   "file_extension": ".py",
   "mimetype": "text/x-python",
   "name": "python",
   "nbconvert_exporter": "python",
   "pygments_lexer": "ipython3",
   "version": "3.12.4"
  }
 },
 "nbformat": 4,
 "nbformat_minor": 5
}
